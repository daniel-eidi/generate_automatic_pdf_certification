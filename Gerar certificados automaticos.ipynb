{
 "cells": [
  {
   "cell_type": "code",
   "execution_count": 19,
   "metadata": {},
   "outputs": [],
   "source": [
    "from reportlab.pdfgen import canvas\n",
    "from reportlab.lib.pagesizes import A4, landscape, portrait"
   ]
  },
  {
   "cell_type": "code",
   "execution_count": 52,
   "metadata": {},
   "outputs": [],
   "source": [
    "from reportlab.pdfbase import pdfmetrics\n",
    "from reportlab.pdfbase.ttfonts import TTFont\n",
    "\n",
    "pdfmetrics.registerFont(TTFont('Quattrocento', 'Quattrocento-Regular.ttf'))"
   ]
  },
  {
   "cell_type": "code",
   "execution_count": 84,
   "metadata": {
    "scrolled": true
   },
   "outputs": [],
   "source": [
    "import csv\n",
    "\n",
    "filename = 'p1.csv'\n",
    "\n",
    "with open(filename, encoding=\"utf8\") as csvfile:\n",
    "    datareader = csv.reader(csvfile)\n",
    "    for row in datareader:\n",
    "        nome = row[0]\n",
    "        cnv = canvas.Canvas(nome+\".pdf\", pagesize = landscape(A4))\n",
    "        lWidth, lHeight = landscape(A4)\n",
    "        cnv.drawImage(\"Certificado.jpg\", 0 , 0, width = lWidth, height = lHeight)\n",
    "        cnv.setFont(\"Quattrocento\", 45)\n",
    "        cnv.setFillColorRGB(52/255,101/255,43/255) #definir a cor do nome a ser impresso\n",
    "        cnv.drawCentredString(lWidth/2, lHeight/2+10, nome)\n",
    "        cnv.save()\n",
    "        "
   ]
  },
  {
   "cell_type": "code",
   "execution_count": 58,
   "metadata": {},
   "outputs": [],
   "source": [
    "\n"
   ]
  },
  {
   "cell_type": "code",
   "execution_count": null,
   "metadata": {},
   "outputs": [],
   "source": []
  }
 ],
 "metadata": {
  "kernelspec": {
   "display_name": "Python 3",
   "language": "python",
   "name": "python3"
  },
  "language_info": {
   "codemirror_mode": {
    "name": "ipython",
    "version": 3
   },
   "file_extension": ".py",
   "mimetype": "text/x-python",
   "name": "python",
   "nbconvert_exporter": "python",
   "pygments_lexer": "ipython3",
   "version": "3.7.3"
  }
 },
 "nbformat": 4,
 "nbformat_minor": 2
}
